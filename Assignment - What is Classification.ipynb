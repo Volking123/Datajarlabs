{
 "cells": [
  {
   "cell_type": "markdown",
   "metadata": {},
   "source": [
    "Determine whether the following examples are classification problems or regression problems:\n",
    "\n",
    "1. Given the size of the house, estimating the price of it,\n",
    "2. From the clothes of those who come to see the house, to conclude who has a high or low probability of buying the house,\n",
    "3. Using parameters such as location and date, calculate the probability of rain,\n",
    "4. Estimating a one's salary using parameters such as education and experience,\n",
    "5. Estimation one's age,\n",
    "6. Estimation one's income,\n",
    "7. Estimate the direction of price of any stock."
   ]
  },
  {
   "cell_type": "markdown",
   "metadata": {},
   "source": [
    "## Answers:\n",
    "\n",
    "1. Regression\n",
    "2. Classification\n",
    "3. Regression, if the required answer is in percentage. (If the answer we seek is just \"Yes/No\", then Classification.)\n",
    "4. Regression\n",
    "5. Classification/Regression (Depends on the independent variables or what we search for). \n",
    "6. Regression\n",
    "7. Classification (Whether it is going up or down). "
   ]
  },
  {
   "cell_type": "code",
   "execution_count": null,
   "metadata": {},
   "outputs": [],
   "source": []
  }
 ],
 "metadata": {
  "kernelspec": {
   "display_name": "Python 3",
   "language": "python",
   "name": "python3"
  },
  "language_info": {
   "codemirror_mode": {
    "name": "ipython",
    "version": 3
   },
   "file_extension": ".py",
   "mimetype": "text/x-python",
   "name": "python",
   "nbconvert_exporter": "python",
   "pygments_lexer": "ipython3",
   "version": "3.8.5"
  }
 },
 "nbformat": 4,
 "nbformat_minor": 4
}
